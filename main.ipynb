{
 "cells": [
  {
   "cell_type": "code",
   "execution_count": 1,
   "metadata": {},
   "outputs": [],
   "source": [
    "import torch\n",
    "import GPUtil\n",
    "import os\n",
    "# from shap_e.diffusion.sample import sample_latents\n",
    "from shap_e.diffusion.gaussian_diffusion import diffusion_from_config\n",
    "from shap_e.models.download import load_model, load_config\n",
    "# from shap_e.util.notebooks import create_pan_cameras, decode_latent_images, gif_widget\n",
    "# from shap_e.util.image_util import load_image"
   ]
  },
  {
   "cell_type": "code",
   "execution_count": 2,
   "metadata": {},
   "outputs": [
    {
     "name": "stdout",
     "output_type": "stream",
     "text": [
      "True\n"
     ]
    }
   ],
   "source": [
    "device = torch.device('cuda' if torch.cuda.is_available() else 'cpu')\n",
    "print(torch.cuda.is_available())"
   ]
  },
  {
   "cell_type": "code",
   "execution_count": 3,
   "metadata": {},
   "outputs": [
    {
     "name": "stdout",
     "output_type": "stream",
     "text": [
      "| ID | GPU | MEM |\n",
      "------------------\n",
      "|  0 |  0% |  0% |\n"
     ]
    },
    {
     "data": {
      "application/vnd.jupyter.widget-view+json": {
       "model_id": "0e0bce483ce94bba8b99760a134b8bd9",
       "version_major": 2,
       "version_minor": 0
      },
      "text/plain": [
       "  0%|          | 0.00/1.78G [00:00<?, ?iB/s]"
      ]
     },
     "metadata": {},
     "output_type": "display_data"
    },
    {
     "name": "stdout",
     "output_type": "stream",
     "text": [
      "| ID | GPU | MEM |\n",
      "------------------\n",
      "|  0 | 23% | 48% |\n"
     ]
    },
    {
     "name": "stderr",
     "output_type": "stream",
     "text": [
      "100%|███████████████████████████████████████| 890M/890M [00:47<00:00, 19.7MiB/s]\n"
     ]
    },
    {
     "data": {
      "application/vnd.jupyter.widget-view+json": {
       "model_id": "e81ec50bfd85454bbba0a5320d44e484",
       "version_major": 2,
       "version_minor": 0
      },
      "text/plain": [
       "  0%|          | 0.00/1.26G [00:00<?, ?iB/s]"
      ]
     },
     "metadata": {},
     "output_type": "display_data"
    },
    {
     "name": "stdout",
     "output_type": "stream",
     "text": [
      "| ID | GPU | MEM |\n",
      "------------------\n",
      "|  0 | 53% | 68% |\n",
      "| ID | GPU | MEM |\n",
      "------------------\n",
      "|  0 | 13% | 68% |\n"
     ]
    }
   ],
   "source": [
    "GPUtil.showUtilization()\n",
    "xm = load_model('transmitter', device=device)\n",
    "GPUtil.showUtilization()\n",
    "model = load_model('image300M', device=device)\n",
    "GPUtil.showUtilization()\n",
    "diffusion = diffusion_from_config(load_config('diffusion'))\n",
    "GPUtil.showUtilization()"
   ]
  },
  {
   "cell_type": "markdown",
   "metadata": {},
   "source": [
    "マルチプロセスにするつもりだったが、メモリが倍必要なため、マルチスレッドで実装"
   ]
  },
  {
   "cell_type": "code",
   "execution_count": null,
   "metadata": {},
   "outputs": [],
   "source": []
  },
  {
   "cell_type": "code",
   "execution_count": 4,
   "metadata": {},
   "outputs": [
    {
     "name": "stdout",
     "output_type": "stream",
     "text": [
      "| ID | GPU | MEM |\n",
      "------------------\n",
      "|  0 |  0% | 68% |\n"
     ]
    }
   ],
   "source": [
    "from shap_e.mylib.modelCreate import model_create\n",
    "from concurrent.futures import ProcessPoolExecutor, ThreadPoolExecutor\n",
    "# from multiprocessing import Pool, Process\n",
    "# import time\n",
    "\n",
    "# max_workers = os.cpu_count()\n",
    "# with ThreadPoolExecutor(max_workers=max_workers) as executor:\n",
    "        #ソケット接続&画像を取得する\n",
    "        \n",
    "        # executor.submit(model_create,xm,model,diffusion,\"Assets/example_data/apple2.jpeg\")\n",
    "        # executor.submit(model_create,xm,model,diffusion,\"Assets/example_data/light.jpg\")\n",
    "        # executor.submit(model_create,xm,model,diffusion,\"Assets/example_data/light1.jpg\")\n",
    "        # executor.submit(model_create,xm,model,diffusion,\"Assets/example_data/scissors.jpg\")\n",
    "        # time.sleep(20)\n",
    "        # executor.submit(model_create,xm,model,diffusion,\"Assets/example_data/yakan.png\")\n",
    "        # time.sleep(20)\n",
    "        # executor.submit(model_create,xm,model,diffusion,\"Assets/example_data/penguin.png\")\n",
    "        # time.sleep(10)\n",
    "        # executor.submit(model_create,xm,model,diffusion,\"Assets/example_data/bottle.jpg\")\n",
    "\n",
    "\n",
    "# import torch.multiprocessing as multiprocessing\n",
    "# if multiprocessing.get_start_method() == 'fork':\n",
    "#     multiprocessing.set_start_method('spawn', force=True)\n",
    "#     print(\"{} setup done\".format(multiprocessing.get_start_method()))\n",
    "# arg_list = [(xm,model,diffusion,\"example_data/corgi.png\")]\n",
    "# with Pool(3) as p:\n",
    "#     p.map(model_create,arg_list)\n",
    "\n",
    "GPUtil.showUtilization()\n"
   ]
  },
  {
   "cell_type": "code",
   "execution_count": 5,
   "metadata": {},
   "outputs": [],
   "source": [
    "import threading\n",
    "\n",
    "threading.Thread(target=model_create,args=[xm,model,diffusion,\"Assets/example_data/light.jpg\"]).start()\n",
    "threading.Thread(target=model_create,args=[xm,model,diffusion,\"Assets/example_data/apple.jpg\"]).start()\n"
   ]
  },
  {
   "cell_type": "code",
   "execution_count": 6,
   "metadata": {},
   "outputs": [
    {
     "name": "stdout",
     "output_type": "stream",
     "text": [
      "loaded: appleloaded: light\n",
      "\n",
      "makeModel: light\n"
     ]
    },
    {
     "name": "stdout",
     "output_type": "stream",
     "text": [
      "makeModel: apple\n"
     ]
    },
    {
     "data": {
      "application/vnd.jupyter.widget-view+json": {
       "model_id": "e2b4f61c3e014ab0ac2cee53f981af4b",
       "version_major": 2,
       "version_minor": 0
      },
      "text/plain": [
       "  0%|          | 0/64 [00:00<?, ?it/s]"
      ]
     },
     "metadata": {},
     "output_type": "display_data"
    },
    {
     "data": {
      "application/vnd.jupyter.widget-view+json": {
       "model_id": "e921c5a806b345f6bb38154121dd7a8f",
       "version_major": 2,
       "version_minor": 0
      },
      "text/plain": [
       "  0%|          | 0/64 [00:00<?, ?it/s]"
      ]
     },
     "metadata": {},
     "output_type": "display_data"
    },
    {
     "name": "stdout",
     "output_type": "stream",
     "text": [
      "| ID | GPU | MEM |\n",
      "------------------\n",
      "|  0 | 93% | 84% |\n",
      "write models: apple\n",
      "| ID | GPU | MEM |\n",
      "------------------\n",
      "|  0 | 93% | 84% |\n",
      "write models: light\n"
     ]
    },
    {
     "name": "stderr",
     "output_type": "stream",
     "text": [
      "/root/work/repos/ModelGenerator/shap_e/models/stf/renderer.py:286: UserWarning: exception rendering with PyTorch3D: No module named 'pytorch3d'\n",
      "  warnings.warn(f\"exception rendering with PyTorch3D: {exc}\")\n",
      "/root/work/repos/ModelGenerator/shap_e/models/stf/renderer.py:287: UserWarning: falling back on native PyTorch renderer, which does not support full gradients\n",
      "  warnings.warn(\n"
     ]
    },
    {
     "name": "stdout",
     "output_type": "stream",
     "text": [
      "to_glb: /tmp/tmpwcxewa3h.glbply: /tmp/tmpjf7svuw6.ply\n",
      "glb_path = /tmp/tmpwcxewa3h.glb, output_path = /root/work/repos/ModelGenerator/Assets/model_light/output.fbx\n",
      "to_glb: /tmp/tmp32y9ewen.glbply: /tmp/tmpne7myct_.ply\n",
      "Blender 4.0.1 (hash d0dd92834a08 built 2023-11-17 00:31:26)\n",
      "glb_path = /tmp/tmp32y9ewen.glb, output_path = /root/work/repos/ModelGenerator/Assets/model_apple/output.fbx\n",
      "Blender 4.0.1 (hash d0dd92834a08 built 2023-11-17 00:31:26)\n",
      "glb_path = /tmp/tmpwcxewa3h.glb, output_path = /root/work/repos/ModelGenerator/Assets/model_light/output.fbx\n",
      "glb_path = /tmp/tmp32y9ewen.glb, output_path = /root/work/repos/ModelGenerator/Assets/model_apple/output.fbx\n",
      "Data are loaded, start creating Blender stuff\n",
      "Data are loaded, start creating Blender stuff\n",
      "glTF import finished in 0.19s\n",
      "\n",
      "FBX export starting... '/root/work/repos/ModelGenerator/Assets/model_light/output.fbx'\n",
      "export finished in 0.3828 sec.\n",
      "glTF import finished in 0.65s\n",
      "\n",
      "FBX export starting... '/root/work/repos/ModelGenerator/Assets/model_apple/output.fbx'\n",
      "| ID | GPU | MEM |\n",
      "------------------\n",
      "|  0 |  0% | 59% |\n",
      "export finished in 0.9878 sec.\n",
      "| ID | GPU | MEM |\n",
      "------------------\n",
      "|  0 |  0% | 59% |\n"
     ]
    }
   ],
   "source": [
    "del model_create"
   ]
  }
 ],
 "metadata": {
  "kernelspec": {
   "display_name": "Python 3",
   "language": "python",
   "name": "python3"
  },
  "language_info": {
   "codemirror_mode": {
    "name": "ipython",
    "version": 3
   },
   "file_extension": ".py",
   "mimetype": "text/x-python",
   "name": "python",
   "nbconvert_exporter": "python",
   "pygments_lexer": "ipython3",
   "version": "3.10.6"
  }
 },
 "nbformat": 4,
 "nbformat_minor": 2
}
