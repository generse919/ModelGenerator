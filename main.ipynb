{
 "cells": [
  {
   "cell_type": "code",
   "execution_count": 1,
   "metadata": {},
   "outputs": [],
   "source": [
    "import torch\n",
    "import GPUtil\n",
    "import os\n",
    "# from shap_e.diffusion.sample import sample_latents\n",
    "from shap_e.diffusion.gaussian_diffusion import diffusion_from_config\n",
    "from shap_e.models.download import load_model, load_config\n",
    "# from shap_e.util.notebooks import create_pan_cameras, decode_latent_images, gif_widget\n",
    "# from shap_e.util.image_util import load_image"
   ]
  },
  {
   "cell_type": "code",
   "execution_count": 2,
   "metadata": {},
   "outputs": [
    {
     "name": "stdout",
     "output_type": "stream",
     "text": [
      "True\n"
     ]
    }
   ],
   "source": [
    "device = torch.device('cuda' if torch.cuda.is_available() else 'cpu')\n",
    "print(torch.cuda.is_available())"
   ]
  },
  {
   "cell_type": "code",
   "execution_count": 3,
   "metadata": {},
   "outputs": [
    {
     "name": "stdout",
     "output_type": "stream",
     "text": [
      "| ID | GPU | MEM |\n",
      "------------------\n",
      "|  0 |  0% |  0% |\n",
      "| ID | GPU | MEM |\n",
      "------------------\n",
      "|  0 | 25% | 48% |\n",
      "| ID | GPU | MEM |\n",
      "------------------\n",
      "|  0 | 47% | 68% |\n",
      "| ID | GPU | MEM |\n",
      "------------------\n",
      "|  0 | 11% | 68% |\n"
     ]
    }
   ],
   "source": [
    "GPUtil.showUtilization()\n",
    "xm = load_model('transmitter', device=device)\n",
    "GPUtil.showUtilization()\n",
    "model = load_model('image300M', device=device)\n",
    "GPUtil.showUtilization()\n",
    "diffusion = diffusion_from_config(load_config('diffusion'))\n",
    "GPUtil.showUtilization()"
   ]
  },
  {
   "cell_type": "markdown",
   "metadata": {},
   "source": [
    "マルチプロセスにするつもりだったが、メモリが倍必要なため、マルチスレッドで実装"
   ]
  },
  {
   "cell_type": "code",
   "execution_count": 4,
   "metadata": {},
   "outputs": [
    {
     "name": "stdout",
     "output_type": "stream",
     "text": [
      "[アクセス元アドレス]=>172.18.0.1\n",
      "[アクセス元ポート]=>56387\n",
      "\n",
      "\n"
     ]
    },
    {
     "ename": "UnicodeDecodeError",
     "evalue": "'utf-8' codec can't decode byte 0xff in position 2: invalid start byte",
     "output_type": "error",
     "traceback": [
      "\u001b[0;31m---------------------------------------------------------------------------\u001b[0m",
      "\u001b[0;31mUnicodeDecodeError\u001b[0m                        Traceback (most recent call last)",
      "\u001b[1;32m/root/work/repos/ModelGenerator/main.ipynb Cell 5\u001b[0m line \u001b[0;36m7\n\u001b[1;32m      <a href='vscode-notebook-cell://dev-container%2B7b22686f737450617468223a22633a5c5c55736572735c5c6d6f756e745c5c446f63756d656e74735c5c446f636b65725c5c706f6c6c792d646f636b6572222c226c6f63616c446f636b6572223a66616c73652c22636f6e66696746696c65223a7b22246d6964223a312c22667350617468223a22633a5c5c55736572735c5c6d6f756e745c5c446f63756d656e74735c5c446f636b65725c5c706f6c6c792d646f636b65725c5c2e646576636f6e7461696e65725c5c646576636f6e7461696e65722e6a736f6e222c225f736570223a312c2265787465726e616c223a2266696c653a2f2f2f632533412f55736572732f6d6f756e742f446f63756d656e74732f446f636b65722f706f6c6c792d646f636b65722f2e646576636f6e7461696e65722f646576636f6e7461696e65722e6a736f6e222c2270617468223a222f633a2f55736572732f6d6f756e742f446f63756d656e74732f446f636b65722f706f6c6c792d646f636b65722f2e646576636f6e7461696e65722f646576636f6e7461696e65722e6a736f6e222c22736368656d65223a2266696c65227d7d/root/work/repos/ModelGenerator/main.ipynb#W4sdnNjb2RlLXJlbW90ZQ%3D%3D?line=0'>1</a>\u001b[0m \u001b[39mimport\u001b[39;00m \u001b[39mserver_multi_thread\u001b[39;00m\n\u001b[1;32m      <a href='vscode-notebook-cell://dev-container%2B7b22686f737450617468223a22633a5c5c55736572735c5c6d6f756e745c5c446f63756d656e74735c5c446f636b65725c5c706f6c6c792d646f636b6572222c226c6f63616c446f636b6572223a66616c73652c22636f6e66696746696c65223a7b22246d6964223a312c22667350617468223a22633a5c5c55736572735c5c6d6f756e745c5c446f63756d656e74735c5c446f636b65725c5c706f6c6c792d646f636b65725c5c2e646576636f6e7461696e65725c5c646576636f6e7461696e65722e6a736f6e222c225f736570223a312c2265787465726e616c223a2266696c653a2f2f2f632533412f55736572732f6d6f756e742f446f63756d656e74732f446f636b65722f706f6c6c792d646f636b65722f2e646576636f6e7461696e65722f646576636f6e7461696e65722e6a736f6e222c2270617468223a222f633a2f55736572732f6d6f756e742f446f63756d656e74732f446f636b65722f706f6c6c792d646f636b65722f2e646576636f6e7461696e65722f646576636f6e7461696e65722e6a736f6e222c22736368656d65223a2266696c65227d7d/root/work/repos/ModelGenerator/main.ipynb#W4sdnNjb2RlLXJlbW90ZQ%3D%3D?line=2'>3</a>\u001b[0m server \u001b[39m=\u001b[39m server_multi_thread\u001b[39m.\u001b[39mModelGenerate(\n\u001b[1;32m      <a href='vscode-notebook-cell://dev-container%2B7b22686f737450617468223a22633a5c5c55736572735c5c6d6f756e745c5c446f63756d656e74735c5c446f636b65725c5c706f6c6c792d646f636b6572222c226c6f63616c446f636b6572223a66616c73652c22636f6e66696746696c65223a7b22246d6964223a312c22667350617468223a22633a5c5c55736572735c5c6d6f756e745c5c446f63756d656e74735c5c446f636b65725c5c706f6c6c792d646f636b65725c5c2e646576636f6e7461696e65725c5c646576636f6e7461696e65722e6a736f6e222c225f736570223a312c2265787465726e616c223a2266696c653a2f2f2f632533412f55736572732f6d6f756e742f446f63756d656e74732f446f636b65722f706f6c6c792d646f636b65722f2e646576636f6e7461696e65722f646576636f6e7461696e65722e6a736f6e222c2270617468223a222f633a2f55736572732f6d6f756e742f446f63756d656e74732f446f636b65722f706f6c6c792d646f636b65722f2e646576636f6e7461696e65722f646576636f6e7461696e65722e6a736f6e222c22736368656d65223a2266696c65227d7d/root/work/repos/ModelGenerator/main.ipynb#W4sdnNjb2RlLXJlbW90ZQ%3D%3D?line=3'>4</a>\u001b[0m     host\u001b[39m=\u001b[39m\u001b[39m\"\u001b[39m\u001b[39m0.0.0.0\u001b[39m\u001b[39m\"\u001b[39m, port\u001b[39m=\u001b[39m\u001b[39m8086\u001b[39m, recv_bytes\u001b[39m=\u001b[39m\u001b[39m8192\u001b[39m,\n\u001b[1;32m      <a href='vscode-notebook-cell://dev-container%2B7b22686f737450617468223a22633a5c5c55736572735c5c6d6f756e745c5c446f63756d656e74735c5c446f636b65725c5c706f6c6c792d646f636b6572222c226c6f63616c446f636b6572223a66616c73652c22636f6e66696746696c65223a7b22246d6964223a312c22667350617468223a22633a5c5c55736572735c5c6d6f756e745c5c446f63756d656e74735c5c446f636b65725c5c706f6c6c792d646f636b65725c5c2e646576636f6e7461696e65725c5c646576636f6e7461696e65722e6a736f6e222c225f736570223a312c2265787465726e616c223a2266696c653a2f2f2f632533412f55736572732f6d6f756e742f446f63756d656e74732f446f636b65722f706f6c6c792d646f636b65722f2e646576636f6e7461696e65722f646576636f6e7461696e65722e6a736f6e222c2270617468223a222f633a2f55736572732f6d6f756e742f446f63756d656e74732f446f636b65722f706f6c6c792d646f636b65722f2e646576636f6e7461696e65722f646576636f6e7461696e65722e6a736f6e222c22736368656d65223a2266696c65227d7d/root/work/repos/ModelGenerator/main.ipynb#W4sdnNjb2RlLXJlbW90ZQ%3D%3D?line=4'>5</a>\u001b[0m     xm\u001b[39m=\u001b[39mxm, model\u001b[39m=\u001b[39mmodel, diffusion\u001b[39m=\u001b[39mdiffusion\n\u001b[1;32m      <a href='vscode-notebook-cell://dev-container%2B7b22686f737450617468223a22633a5c5c55736572735c5c6d6f756e745c5c446f63756d656e74735c5c446f636b65725c5c706f6c6c792d646f636b6572222c226c6f63616c446f636b6572223a66616c73652c22636f6e66696746696c65223a7b22246d6964223a312c22667350617468223a22633a5c5c55736572735c5c6d6f756e745c5c446f63756d656e74735c5c446f636b65725c5c706f6c6c792d646f636b65725c5c2e646576636f6e7461696e65725c5c646576636f6e7461696e65722e6a736f6e222c225f736570223a312c2265787465726e616c223a2266696c653a2f2f2f632533412f55736572732f6d6f756e742f446f63756d656e74732f446f636b65722f706f6c6c792d646f636b65722f2e646576636f6e7461696e65722f646576636f6e7461696e65722e6a736f6e222c2270617468223a222f633a2f55736572732f6d6f756e742f446f63756d656e74732f446f636b65722f706f6c6c792d646f636b65722f2e646576636f6e7461696e65722f646576636f6e7461696e65722e6a736f6e222c22736368656d65223a2266696c65227d7d/root/work/repos/ModelGenerator/main.ipynb#W4sdnNjb2RlLXJlbW90ZQ%3D%3D?line=5'>6</a>\u001b[0m     )\n\u001b[0;32m----> <a href='vscode-notebook-cell://dev-container%2B7b22686f737450617468223a22633a5c5c55736572735c5c6d6f756e745c5c446f63756d656e74735c5c446f636b65725c5c706f6c6c792d646f636b6572222c226c6f63616c446f636b6572223a66616c73652c22636f6e66696746696c65223a7b22246d6964223a312c22667350617468223a22633a5c5c55736572735c5c6d6f756e745c5c446f63756d656e74735c5c446f636b65725c5c706f6c6c792d646f636b65725c5c2e646576636f6e7461696e65725c5c646576636f6e7461696e65722e6a736f6e222c225f736570223a312c2265787465726e616c223a2266696c653a2f2f2f632533412f55736572732f6d6f756e742f446f63756d656e74732f446f636b65722f706f6c6c792d646f636b65722f2e646576636f6e7461696e65722f646576636f6e7461696e65722e6a736f6e222c2270617468223a222f633a2f55736572732f6d6f756e742f446f63756d656e74732f446f636b65722f706f6c6c792d646f636b65722f2e646576636f6e7461696e65722f646576636f6e7461696e65722e6a736f6e222c22736368656d65223a2266696c65227d7d/root/work/repos/ModelGenerator/main.ipynb#W4sdnNjb2RlLXJlbW90ZQ%3D%3D?line=6'>7</a>\u001b[0m server\u001b[39m.\u001b[39;49mstart_server()\n",
      "File \u001b[0;32m~/work/repos/ModelGenerator/server_multi_thread.py:43\u001b[0m, in \u001b[0;36mModelGenerate.start_server\u001b[0;34m(self)\u001b[0m\n\u001b[1;32m     41\u001b[0m     \u001b[39mif\u001b[39;00m \u001b[39mnot\u001b[39;00m (\u001b[39mself\u001b[39m\u001b[39m.\u001b[39msock, addr) \u001b[39min\u001b[39;00m \u001b[39mself\u001b[39m\u001b[39m.\u001b[39mclients:\n\u001b[1;32m     42\u001b[0m         \u001b[39mself\u001b[39m\u001b[39m.\u001b[39mclients\u001b[39m.\u001b[39mappend((\u001b[39mself\u001b[39m\u001b[39m.\u001b[39msock, addr))\n\u001b[0;32m---> 43\u001b[0m     \u001b[39mself\u001b[39;49m\u001b[39m.\u001b[39;49mloop_handler(data,addr)\n\u001b[1;32m     44\u001b[0m     \u001b[39m# スレッド作成\u001b[39;00m\n\u001b[1;32m     45\u001b[0m     \u001b[39m# thread = threading.Thread(target=self.loop_handler, args=(data, addr), daemon=True)\u001b[39;00m\n\u001b[1;32m     46\u001b[0m     \u001b[39m# スレッドスタート\u001b[39;00m\n\u001b[1;32m     47\u001b[0m     \u001b[39m# thread.start()\u001b[39;00m\n\u001b[1;32m     49\u001b[0m \u001b[39mexcept\u001b[39;00m \u001b[39mKeyboardInterrupt\u001b[39;00m:\n",
      "File \u001b[0;32m~/work/repos/ModelGenerator/server_multi_thread.py:30\u001b[0m, in \u001b[0;36mModelGenerate.loop_handler\u001b[0;34m(self, data, address)\u001b[0m\n\u001b[1;32m     27\u001b[0m     \u001b[39mself\u001b[39m\u001b[39m.\u001b[39mdecodeData(data,address)\n\u001b[1;32m     28\u001b[0m     \u001b[39m# print(\"クライアント{}:{}から{}というメッセージを受信完了\".format(value[1][0], value[1][1], data.decode()))\u001b[39;00m\n\u001b[1;32m     29\u001b[0m \u001b[39melse\u001b[39;00m:\n\u001b[0;32m---> 30\u001b[0m     value[\u001b[39m0\u001b[39m]\u001b[39m.\u001b[39msendto(\u001b[39m\"\u001b[39m\u001b[39mクライアント\u001b[39m\u001b[39m{}\u001b[39;00m\u001b[39m:\u001b[39m\u001b[39m{}\u001b[39;00m\u001b[39mから\u001b[39m\u001b[39m{}\u001b[39;00m\u001b[39mを受信\u001b[39m\u001b[39m\"\u001b[39m\u001b[39m.\u001b[39mformat(value[\u001b[39m1\u001b[39m][\u001b[39m0\u001b[39m], value[\u001b[39m1\u001b[39m][\u001b[39m1\u001b[39m], data\u001b[39m.\u001b[39;49mdecode())\u001b[39m.\u001b[39mencode(\u001b[39m\"\u001b[39m\u001b[39mUTF-8\u001b[39m\u001b[39m\"\u001b[39m), address)\n",
      "\u001b[0;31mUnicodeDecodeError\u001b[0m: 'utf-8' codec can't decode byte 0xff in position 2: invalid start byte"
     ]
    }
   ],
   "source": [
    "import server_multi_thread\n",
    "\n",
    "server = server_multi_thread.ModelGenerate(\n",
    "    host=\"0.0.0.0\", port=8086, recv_bytes=8192,\n",
    "    xm=xm, model=model, diffusion=diffusion\n",
    "    )\n",
    "server.start_server()"
   ]
  },
  {
   "cell_type": "code",
   "execution_count": null,
   "metadata": {},
   "outputs": [],
   "source": [
    "del server_multi_thread"
   ]
  },
  {
   "cell_type": "code",
   "execution_count": null,
   "metadata": {},
   "outputs": [
    {
     "name": "stdout",
     "output_type": "stream",
     "text": [
      "| ID | GPU | MEM |\n",
      "------------------\n",
      "|  0 |  0% | 68% |\n"
     ]
    }
   ],
   "source": [
    "from shap_e.mylib.modelCreate import model_create\n",
    "from concurrent.futures import ProcessPoolExecutor, ThreadPoolExecutor\n",
    "# from multiprocessing import Pool, Process\n",
    "# import time\n",
    "\n",
    "# max_workers = os.cpu_count()\n",
    "# with ThreadPoolExecutor(max_workers=max_workers) as executor:\n",
    "        #ソケット接続&画像を取得する\n",
    "        \n",
    "        # executor.submit(model_create,xm,model,diffusion,\"Assets/example_data/apple2.jpeg\")\n",
    "        # executor.submit(model_create,xm,model,diffusion,\"Assets/example_data/light.jpg\")\n",
    "        # executor.submit(model_create,xm,model,diffusion,\"Assets/example_data/light1.jpg\")\n",
    "        # executor.submit(model_create,xm,model,diffusion,\"Assets/example_data/scissors.jpg\")\n",
    "        # time.sleep(20)\n",
    "        # executor.submit(model_create,xm,model,diffusion,\"Assets/example_data/yakan.png\")\n",
    "        # time.sleep(20)\n",
    "        # executor.submit(model_create,xm,model,diffusion,\"Assets/example_data/penguin.png\")\n",
    "        # time.sleep(10)\n",
    "        # executor.submit(model_create,xm,model,diffusion,\"Assets/example_data/bottle.jpg\")\n",
    "\n",
    "\n",
    "# import torch.multiprocessing as multiprocessing\n",
    "# if multiprocessing.get_start_method() == 'fork':\n",
    "#     multiprocessing.set_start_method('spawn', force=True)\n",
    "#     print(\"{} setup done\".format(multiprocessing.get_start_method()))\n",
    "# arg_list = [(xm,model,diffusion,\"example_data/corgi.png\")]\n",
    "# with Pool(3) as p:\n",
    "#     p.map(model_create,arg_list)\n",
    "\n",
    "GPUtil.showUtilization()\n"
   ]
  },
  {
   "cell_type": "code",
   "execution_count": null,
   "metadata": {},
   "outputs": [],
   "source": [
    "# import threading\n",
    "\n",
    "# threading.Thread(target=model_create,args=[xm,model,diffusion,\"Assets/example_data/light.jpg\"]).start()\n",
    "# threading.Thread(target=model_create,args=[xm,model,diffusion,\"Assets/example_data/apple.jpg\"]).start()\n"
   ]
  },
  {
   "cell_type": "code",
   "execution_count": null,
   "metadata": {},
   "outputs": [
    {
     "name": "stdout",
     "output_type": "stream",
     "text": [
      "loaded: appleloaded: light\n",
      "\n",
      "makeModel: light\n"
     ]
    },
    {
     "name": "stdout",
     "output_type": "stream",
     "text": [
      "makeModel: apple\n"
     ]
    },
    {
     "data": {
      "application/vnd.jupyter.widget-view+json": {
       "model_id": "e2b4f61c3e014ab0ac2cee53f981af4b",
       "version_major": 2,
       "version_minor": 0
      },
      "text/plain": [
       "  0%|          | 0/64 [00:00<?, ?it/s]"
      ]
     },
     "metadata": {},
     "output_type": "display_data"
    },
    {
     "data": {
      "application/vnd.jupyter.widget-view+json": {
       "model_id": "e921c5a806b345f6bb38154121dd7a8f",
       "version_major": 2,
       "version_minor": 0
      },
      "text/plain": [
       "  0%|          | 0/64 [00:00<?, ?it/s]"
      ]
     },
     "metadata": {},
     "output_type": "display_data"
    },
    {
     "name": "stdout",
     "output_type": "stream",
     "text": [
      "| ID | GPU | MEM |\n",
      "------------------\n",
      "|  0 | 93% | 84% |\n",
      "write models: apple\n",
      "| ID | GPU | MEM |\n",
      "------------------\n",
      "|  0 | 93% | 84% |\n",
      "write models: light\n"
     ]
    },
    {
     "name": "stderr",
     "output_type": "stream",
     "text": [
      "/root/work/repos/ModelGenerator/shap_e/models/stf/renderer.py:286: UserWarning: exception rendering with PyTorch3D: No module named 'pytorch3d'\n",
      "  warnings.warn(f\"exception rendering with PyTorch3D: {exc}\")\n",
      "/root/work/repos/ModelGenerator/shap_e/models/stf/renderer.py:287: UserWarning: falling back on native PyTorch renderer, which does not support full gradients\n",
      "  warnings.warn(\n"
     ]
    },
    {
     "name": "stdout",
     "output_type": "stream",
     "text": [
      "to_glb: /tmp/tmpwcxewa3h.glbply: /tmp/tmpjf7svuw6.ply\n",
      "glb_path = /tmp/tmpwcxewa3h.glb, output_path = /root/work/repos/ModelGenerator/Assets/model_light/output.fbx\n",
      "to_glb: /tmp/tmp32y9ewen.glbply: /tmp/tmpne7myct_.ply\n",
      "Blender 4.0.1 (hash d0dd92834a08 built 2023-11-17 00:31:26)\n",
      "glb_path = /tmp/tmp32y9ewen.glb, output_path = /root/work/repos/ModelGenerator/Assets/model_apple/output.fbx\n",
      "Blender 4.0.1 (hash d0dd92834a08 built 2023-11-17 00:31:26)\n",
      "glb_path = /tmp/tmpwcxewa3h.glb, output_path = /root/work/repos/ModelGenerator/Assets/model_light/output.fbx\n",
      "glb_path = /tmp/tmp32y9ewen.glb, output_path = /root/work/repos/ModelGenerator/Assets/model_apple/output.fbx\n",
      "Data are loaded, start creating Blender stuff\n",
      "Data are loaded, start creating Blender stuff\n",
      "glTF import finished in 0.19s\n",
      "\n",
      "FBX export starting... '/root/work/repos/ModelGenerator/Assets/model_light/output.fbx'\n",
      "export finished in 0.3828 sec.\n",
      "glTF import finished in 0.65s\n",
      "\n",
      "FBX export starting... '/root/work/repos/ModelGenerator/Assets/model_apple/output.fbx'\n",
      "| ID | GPU | MEM |\n",
      "------------------\n",
      "|  0 |  0% | 59% |\n",
      "export finished in 0.9878 sec.\n",
      "| ID | GPU | MEM |\n",
      "------------------\n",
      "|  0 |  0% | 59% |\n"
     ]
    }
   ],
   "source": [
    "del model_create"
   ]
  }
 ],
 "metadata": {
  "kernelspec": {
   "display_name": "Python 3",
   "language": "python",
   "name": "python3"
  },
  "language_info": {
   "codemirror_mode": {
    "name": "ipython",
    "version": 3
   },
   "file_extension": ".py",
   "mimetype": "text/x-python",
   "name": "python",
   "nbconvert_exporter": "python",
   "pygments_lexer": "ipython3",
   "version": "3.10.6"
  }
 },
 "nbformat": 4,
 "nbformat_minor": 2
}
