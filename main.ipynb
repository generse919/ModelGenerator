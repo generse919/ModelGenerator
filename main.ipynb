{
 "cells": [
  {
   "cell_type": "code",
   "execution_count": 1,
   "metadata": {},
   "outputs": [],
   "source": [
    "import torch\n",
    "import GPUtil\n",
    "import os\n",
    "# from shap_e.diffusion.sample import sample_latents\n",
    "from shap_e.diffusion.gaussian_diffusion import diffusion_from_config\n",
    "from shap_e.models.download import load_model, load_config\n",
    "# from shap_e.util.notebooks import create_pan_cameras, decode_latent_images, gif_widget\n",
    "# from shap_e.util.image_util import load_image"
   ]
  },
  {
   "cell_type": "code",
   "execution_count": 2,
   "metadata": {},
   "outputs": [
    {
     "name": "stdout",
     "output_type": "stream",
     "text": [
      "True\n"
     ]
    }
   ],
   "source": [
    "device = torch.device('cuda' if torch.cuda.is_available() else 'cpu')\n",
    "print(torch.cuda.is_available())"
   ]
  },
  {
   "cell_type": "code",
   "execution_count": 3,
   "metadata": {},
   "outputs": [
    {
     "name": "stdout",
     "output_type": "stream",
     "text": [
      "| ID | GPU | MEM |\n",
      "------------------\n",
      "|  0 |  0% |  0% |\n",
      "| ID | GPU | MEM |\n",
      "------------------\n",
      "|  0 | 49% | 48% |\n",
      "| ID | GPU | MEM |\n",
      "------------------\n",
      "|  0 | 45% | 68% |\n",
      "| ID | GPU | MEM |\n",
      "------------------\n",
      "|  0 | 45% | 68% |\n"
     ]
    }
   ],
   "source": [
    "GPUtil.showUtilization()\n",
    "xm = load_model('transmitter', device=device)\n",
    "GPUtil.showUtilization()\n",
    "model = load_model('image300M', device=device)\n",
    "GPUtil.showUtilization()\n",
    "diffusion = diffusion_from_config(load_config('diffusion'))\n",
    "GPUtil.showUtilization()"
   ]
  },
  {
   "cell_type": "markdown",
   "metadata": {},
   "source": [
    "マルチプロセスにするつもりだったが、メモリが倍必要なため、マルチスレッドで実装"
   ]
  },
  {
   "cell_type": "code",
   "execution_count": 4,
   "metadata": {},
   "outputs": [
    {
     "name": "stdout",
     "output_type": "stream",
     "text": [
      "Server started.\n",
      "Co Start.\n",
      "Co Start2.\n",
      "Client connected.\n",
      "Received file: .jpg\n",
      "loaded: tmpl95z8q8f\n",
      "makeModel: tmpl95z8q8f\n"
     ]
    },
    {
     "data": {
      "application/vnd.jupyter.widget-view+json": {
       "model_id": "49734613e24144cda50230ff6357e34b",
       "version_major": 2,
       "version_minor": 0
      },
      "text/plain": [
       "  0%|          | 0/64 [00:00<?, ?it/s]"
      ]
     },
     "metadata": {},
     "output_type": "display_data"
    },
    {
     "name": "stdout",
     "output_type": "stream",
     "text": [
      "| ID | GPU | MEM |\n",
      "------------------\n",
      "|  0 | 70% | 80% |\n",
      "write models: tmpl95z8q8f\n"
     ]
    },
    {
     "name": "stderr",
     "output_type": "stream",
     "text": [
      "/root/work/repos/ModelGenerator/shap_e/models/stf/renderer.py:286: UserWarning: exception rendering with PyTorch3D: No module named 'pytorch3d'\n",
      "  warnings.warn(f\"exception rendering with PyTorch3D: {exc}\")\n",
      "/root/work/repos/ModelGenerator/shap_e/models/stf/renderer.py:287: UserWarning: falling back on native PyTorch renderer, which does not support full gradients\n",
      "  warnings.warn(\n"
     ]
    },
    {
     "name": "stdout",
     "output_type": "stream",
     "text": [
      "to_glb: /root/work/repos/ModelGenerator/Assets/model_tmpl95z8q8f/output.glbply: /tmp/tmpeifufi5a.ply\n",
      "| ID | GPU | MEM |\n",
      "------------------\n",
      "|  0 |  0% | 61% |\n",
      "model path/root/work/repos/ModelGenerator/Assets/model_tmpl95z8q8f/output.glb\n",
      "read start:/root/work/repos/ModelGenerator/Assets/model_tmpl95z8q8f/output.glb\n",
      "sendEnd2812\n",
      "Bytes: 3846696\n",
      "Client connected.\n",
      "Received file: .jpg\n",
      "loaded: tmp3ra0i2wa\n",
      "makeModel: tmp3ra0i2wa\n"
     ]
    },
    {
     "data": {
      "application/vnd.jupyter.widget-view+json": {
       "model_id": "a6c64a2ae7e642608fee56a7f753d11c",
       "version_major": 2,
       "version_minor": 0
      },
      "text/plain": [
       "  0%|          | 0/64 [00:00<?, ?it/s]"
      ]
     },
     "metadata": {},
     "output_type": "display_data"
    },
    {
     "name": "stdout",
     "output_type": "stream",
     "text": [
      "| ID | GPU | MEM |\n",
      "------------------\n",
      "|  0 | 98% | 74% |\n",
      "write models: tmp3ra0i2wa\n"
     ]
    },
    {
     "name": "stderr",
     "output_type": "stream",
     "text": [
      "/root/work/repos/ModelGenerator/shap_e/models/stf/renderer.py:286: UserWarning: exception rendering with PyTorch3D: No module named 'pytorch3d'\n",
      "  warnings.warn(f\"exception rendering with PyTorch3D: {exc}\")\n",
      "/root/work/repos/ModelGenerator/shap_e/models/stf/renderer.py:287: UserWarning: falling back on native PyTorch renderer, which does not support full gradients\n",
      "  warnings.warn(\n"
     ]
    },
    {
     "name": "stdout",
     "output_type": "stream",
     "text": [
      "to_glb: /root/work/repos/ModelGenerator/Assets/model_tmp3ra0i2wa/output.glbply: /tmp/tmpxwwg12h4.ply\n",
      "| ID | GPU | MEM |\n",
      "------------------\n",
      "|  0 |  0% | 61% |\n",
      "model path/root/work/repos/ModelGenerator/Assets/model_tmp3ra0i2wa/output.glb\n",
      "read start:/root/work/repos/ModelGenerator/Assets/model_tmp3ra0i2wa/output.glb\n",
      "sendEnd2372\n",
      "Bytes: 3244736\n"
     ]
    },
    {
     "ename": "KeyboardInterrupt",
     "evalue": "",
     "output_type": "error",
     "traceback": [
      "\u001b[0;31m---------------------------------------------------------------------------\u001b[0m",
      "\u001b[0;31mKeyboardInterrupt\u001b[0m                         Traceback (most recent call last)",
      "Cell \u001b[0;32mIn[4], line 19\u001b[0m\n\u001b[1;32m     15\u001b[0m     asyncio\u001b[38;5;241m.\u001b[39mget_event_loop()\u001b[38;5;241m.\u001b[39mrun_until_complete(server_coroutine(server))\n\u001b[1;32m     18\u001b[0m server \u001b[38;5;241m=\u001b[39m Server(xm, model, diffusion)\n\u001b[0;32m---> 19\u001b[0m \u001b[43mstart_server\u001b[49m\u001b[43m(\u001b[49m\u001b[43mserver\u001b[49m\u001b[43m)\u001b[49m\n\u001b[1;32m     20\u001b[0m \u001b[38;5;66;03m# Thread(target=sync_websocket_server, args=(server,)).start()\u001b[39;00m\n",
      "File \u001b[0;32m~/work/repos/ModelGenerator/server_http.py:119\u001b[0m, in \u001b[0;36mstart_server\u001b[0;34m(server)\u001b[0m\n\u001b[1;32m    117\u001b[0m loop \u001b[38;5;241m=\u001b[39m asyncio\u001b[38;5;241m.\u001b[39mget_event_loop()\n\u001b[1;32m    118\u001b[0m \u001b[38;5;66;03m# asyncio.set_event_loop(loop)\u001b[39;00m\n\u001b[0;32m--> 119\u001b[0m \u001b[43mloop\u001b[49m\u001b[38;5;241;43m.\u001b[39;49m\u001b[43mrun_until_complete\u001b[49m\u001b[43m(\u001b[49m\u001b[43mserver_coroutine\u001b[49m\u001b[43m(\u001b[49m\u001b[43m)\u001b[49m\u001b[43m)\u001b[49m\n\u001b[1;32m    120\u001b[0m loop\u001b[38;5;241m.\u001b[39mrun_forever()\n\u001b[1;32m    121\u001b[0m \u001b[38;5;28mprint\u001b[39m(\u001b[38;5;124m\"\u001b[39m\u001b[38;5;124mServer run.\u001b[39m\u001b[38;5;124m\"\u001b[39m)\n",
      "File \u001b[0;32m/usr/local/lib/python3.10/site-packages/nest_asyncio.py:93\u001b[0m, in \u001b[0;36m_patch_loop.<locals>.run_until_complete\u001b[0;34m(self, future)\u001b[0m\n\u001b[1;32m     91\u001b[0m     f\u001b[38;5;241m.\u001b[39m_log_destroy_pending \u001b[38;5;241m=\u001b[39m \u001b[38;5;28;01mFalse\u001b[39;00m\n\u001b[1;32m     92\u001b[0m \u001b[38;5;28;01mwhile\u001b[39;00m \u001b[38;5;129;01mnot\u001b[39;00m f\u001b[38;5;241m.\u001b[39mdone():\n\u001b[0;32m---> 93\u001b[0m     \u001b[38;5;28;43mself\u001b[39;49m\u001b[38;5;241;43m.\u001b[39;49m\u001b[43m_run_once\u001b[49m\u001b[43m(\u001b[49m\u001b[43m)\u001b[49m\n\u001b[1;32m     94\u001b[0m     \u001b[38;5;28;01mif\u001b[39;00m \u001b[38;5;28mself\u001b[39m\u001b[38;5;241m.\u001b[39m_stopping:\n\u001b[1;32m     95\u001b[0m         \u001b[38;5;28;01mbreak\u001b[39;00m\n",
      "File \u001b[0;32m/usr/local/lib/python3.10/site-packages/nest_asyncio.py:116\u001b[0m, in \u001b[0;36m_patch_loop.<locals>._run_once\u001b[0;34m(self)\u001b[0m\n\u001b[1;32m    109\u001b[0m     heappop(scheduled)\n\u001b[1;32m    111\u001b[0m timeout \u001b[38;5;241m=\u001b[39m (\n\u001b[1;32m    112\u001b[0m     \u001b[38;5;241m0\u001b[39m \u001b[38;5;28;01mif\u001b[39;00m ready \u001b[38;5;129;01mor\u001b[39;00m \u001b[38;5;28mself\u001b[39m\u001b[38;5;241m.\u001b[39m_stopping\n\u001b[1;32m    113\u001b[0m     \u001b[38;5;28;01melse\u001b[39;00m \u001b[38;5;28mmin\u001b[39m(\u001b[38;5;28mmax\u001b[39m(\n\u001b[1;32m    114\u001b[0m         scheduled[\u001b[38;5;241m0\u001b[39m]\u001b[38;5;241m.\u001b[39m_when \u001b[38;5;241m-\u001b[39m \u001b[38;5;28mself\u001b[39m\u001b[38;5;241m.\u001b[39mtime(), \u001b[38;5;241m0\u001b[39m), \u001b[38;5;241m86400\u001b[39m) \u001b[38;5;28;01mif\u001b[39;00m scheduled\n\u001b[1;32m    115\u001b[0m     \u001b[38;5;28;01melse\u001b[39;00m \u001b[38;5;28;01mNone\u001b[39;00m)\n\u001b[0;32m--> 116\u001b[0m event_list \u001b[38;5;241m=\u001b[39m \u001b[38;5;28;43mself\u001b[39;49m\u001b[38;5;241;43m.\u001b[39;49m\u001b[43m_selector\u001b[49m\u001b[38;5;241;43m.\u001b[39;49m\u001b[43mselect\u001b[49m\u001b[43m(\u001b[49m\u001b[43mtimeout\u001b[49m\u001b[43m)\u001b[49m\n\u001b[1;32m    117\u001b[0m \u001b[38;5;28mself\u001b[39m\u001b[38;5;241m.\u001b[39m_process_events(event_list)\n\u001b[1;32m    119\u001b[0m end_time \u001b[38;5;241m=\u001b[39m \u001b[38;5;28mself\u001b[39m\u001b[38;5;241m.\u001b[39mtime() \u001b[38;5;241m+\u001b[39m \u001b[38;5;28mself\u001b[39m\u001b[38;5;241m.\u001b[39m_clock_resolution\n",
      "File \u001b[0;32m/usr/local/lib/python3.10/selectors.py:469\u001b[0m, in \u001b[0;36mEpollSelector.select\u001b[0;34m(self, timeout)\u001b[0m\n\u001b[1;32m    467\u001b[0m ready \u001b[38;5;241m=\u001b[39m []\n\u001b[1;32m    468\u001b[0m \u001b[38;5;28;01mtry\u001b[39;00m:\n\u001b[0;32m--> 469\u001b[0m     fd_event_list \u001b[38;5;241m=\u001b[39m \u001b[38;5;28;43mself\u001b[39;49m\u001b[38;5;241;43m.\u001b[39;49m\u001b[43m_selector\u001b[49m\u001b[38;5;241;43m.\u001b[39;49m\u001b[43mpoll\u001b[49m\u001b[43m(\u001b[49m\u001b[43mtimeout\u001b[49m\u001b[43m,\u001b[49m\u001b[43m \u001b[49m\u001b[43mmax_ev\u001b[49m\u001b[43m)\u001b[49m\n\u001b[1;32m    470\u001b[0m \u001b[38;5;28;01mexcept\u001b[39;00m \u001b[38;5;167;01mInterruptedError\u001b[39;00m:\n\u001b[1;32m    471\u001b[0m     \u001b[38;5;28;01mreturn\u001b[39;00m ready\n",
      "\u001b[0;31mKeyboardInterrupt\u001b[0m: "
     ]
    }
   ],
   "source": [
    "import nest_asyncio\n",
    "nest_asyncio.apply()\n",
    "\n",
    "import asyncio\n",
    "import websockets\n",
    "\n",
    "from server_http import Server, start_server\n",
    "from threading import Thread\n",
    "\n",
    "async def server_coroutine(server: Server):\n",
    "        websocket_server = await websockets.serve(server.handler, \"0.0.0.0\", 8086)\n",
    "        await websocket_server.wait_closed()\n",
    "\n",
    "def sync_websocket_server(server: Server):\n",
    "    asyncio.get_event_loop().run_until_complete(server_coroutine(server))\n",
    "\n",
    "\n",
    "server = Server(xm, model, diffusion)\n",
    "start_server(server)\n",
    "# Thread(target=sync_websocket_server, args=(server,)).start()"
   ]
  },
  {
   "cell_type": "markdown",
   "metadata": {},
   "source": [
    "これ以降はデバッグ用"
   ]
  },
  {
   "cell_type": "code",
   "execution_count": null,
   "metadata": {},
   "outputs": [],
   "source": [
    "from shap_e.mylib.modelCreate import model_create\n",
    "from concurrent.futures import ProcessPoolExecutor, ThreadPoolExecutor\n",
    "# from multiprocessing import Pool, Process\n",
    "import time\n",
    "\n",
    "max_workers = os.cpu_count()\n",
    "with ThreadPoolExecutor(max_workers=max_workers) as executor:\n",
    "        # ソケット接続&画像を取得する\n",
    "        \n",
    "        executor.submit(model_create,xm,model,diffusion,\"Assets/example_data/fruit_apple.png\")\n",
    "        time.sleep(10)\n",
    "        # executor.submit(model_create,xm,model,diffusion,\"Assets/example_data/apple2.jpeg\")\n",
    "        # time.sleep(10)\n",
    "        # executor.submit(model_create,xm,model,diffusion,\"Assets/example_data/apple3.jpg\")\n",
    "        # time.sleep(10)\n",
    "        # executor.submit(model_create,xm,model,diffusion,\"Assets/example_data/light.jpg\")\n",
    "        # executor.submit(model_create,xm,model,diffusion,\"Assets/example_data/light1.jpg\")\n",
    "        # executor.submit(model_create,xm,model,diffusion,\"Assets/example_data/scissors.jpg\")\n",
    "        # time.sleep(20)\n",
    "        # executor.submit(model_create,xm,model,diffusion,\"Assets/example_data/yakan.png\")\n",
    "        # time.sleep(20)\n",
    "        # executor.submit(model_create,xm,model,diffusion,\"Assets/example_data/penguin.png\")\n",
    "        # time.sleep(10)\n",
    "        # executor.submit(model_create,xm,model,diffusion,\"Assets/example_data/bottle.jpg\")\n",
    "\n",
    "\n",
    "# import torch.multiprocessing as multiprocessing\n",
    "# if multiprocessing.get_start_method() == 'fork':\n",
    "#     multiprocessing.set_start_method('spawn', force=True)\n",
    "#     print(\"{} setup done\".format(multiprocessing.get_start_method()))\n",
    "# arg_list = [(xm,model,diffusion,\"example_data/corgi.png\")]\n",
    "# with Pool(3) as p:\n",
    "#     p.map(model_create,arg_list)\n",
    "\n",
    "GPUtil.showUtilization()\n"
   ]
  },
  {
   "cell_type": "code",
   "execution_count": null,
   "metadata": {},
   "outputs": [],
   "source": [
    "# import threading\n",
    "\n",
    "# threading.Thread(target=model_create,args=[xm,model,diffusion,\"Assets/example_data/light.jpg\"]).start()\n",
    "# threading.Thread(target=model_create,args=[xm,model,diffusion,\"Assets/example_data/apple.jpg\"]).start()\n"
   ]
  },
  {
   "cell_type": "code",
   "execution_count": null,
   "metadata": {},
   "outputs": [],
   "source": [
    "del model_create"
   ]
  }
 ],
 "metadata": {
  "kernelspec": {
   "display_name": "Python 3",
   "language": "python",
   "name": "python3"
  },
  "language_info": {
   "codemirror_mode": {
    "name": "ipython",
    "version": 3
   },
   "file_extension": ".py",
   "mimetype": "text/x-python",
   "name": "python",
   "nbconvert_exporter": "python",
   "pygments_lexer": "ipython3",
   "version": "3.10.6"
  }
 },
 "nbformat": 4,
 "nbformat_minor": 2
}
