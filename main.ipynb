{
 "cells": [
  {
   "cell_type": "code",
   "execution_count": 1,
   "metadata": {},
   "outputs": [],
   "source": [
    "import torch\n",
    "import GPUtil\n",
    "import os\n",
    "# from shap_e.diffusion.sample import sample_latents\n",
    "from shap_e.diffusion.gaussian_diffusion import diffusion_from_config\n",
    "from shap_e.models.download import load_model, load_config\n",
    "# from shap_e.util.notebooks import create_pan_cameras, decode_latent_images, gif_widget\n",
    "# from shap_e.util.image_util import load_image"
   ]
  },
  {
   "cell_type": "code",
   "execution_count": 2,
   "metadata": {},
   "outputs": [
    {
     "name": "stdout",
     "output_type": "stream",
     "text": [
      "True\n"
     ]
    }
   ],
   "source": [
    "device = torch.device('cuda' if torch.cuda.is_available() else 'cpu')\n",
    "print(torch.cuda.is_available())"
   ]
  },
  {
   "cell_type": "code",
   "execution_count": 3,
   "metadata": {},
   "outputs": [
    {
     "name": "stdout",
     "output_type": "stream",
     "text": [
      "| ID | GPU | MEM |\n",
      "------------------\n",
      "|  0 |  0% |  0% |\n",
      "| ID | GPU | MEM |\n",
      "------------------\n",
      "|  0 | 10% | 50% |\n",
      "| ID | GPU | MEM |\n",
      "------------------\n",
      "|  0 | 28% | 69% |\n",
      "| ID | GPU | MEM |\n",
      "------------------\n",
      "|  0 | 41% | 69% |\n"
     ]
    }
   ],
   "source": [
    "GPUtil.showUtilization()\n",
    "xm = load_model('transmitter', device=device)\n",
    "GPUtil.showUtilization()\n",
    "model = load_model('image300M', device=device)\n",
    "GPUtil.showUtilization()\n",
    "diffusion = diffusion_from_config(load_config('diffusion'))\n",
    "GPUtil.showUtilization()"
   ]
  },
  {
   "cell_type": "markdown",
   "metadata": {},
   "source": [
    "マルチプロセスにするつもりだったが、メモリが倍必要なため、マルチスレッドで実装"
   ]
  },
  {
   "cell_type": "code",
   "execution_count": 10,
   "metadata": {},
   "outputs": [
    {
     "name": "stdout",
     "output_type": "stream",
     "text": [
      "loaded: light1\n",
      "makeModel: light1\n",
      "loaded: light\n",
      "makeModel: light\n"
     ]
    },
    {
     "data": {
      "application/vnd.jupyter.widget-view+json": {
       "model_id": "dd673bc77a4d4f29a05947409ccbbb71",
       "version_major": 2,
       "version_minor": 0
      },
      "text/plain": [
       "  0%|          | 0/64 [00:00<?, ?it/s]"
      ]
     },
     "metadata": {},
     "output_type": "display_data"
    },
    {
     "data": {
      "application/vnd.jupyter.widget-view+json": {
       "model_id": "846fc2c83af9472caae791149c7405d3",
       "version_major": 2,
       "version_minor": 0
      },
      "text/plain": [
       "  0%|          | 0/64 [00:00<?, ?it/s]"
      ]
     },
     "metadata": {},
     "output_type": "display_data"
    },
    {
     "name": "stdout",
     "output_type": "stream",
     "text": [
      "| ID | GPU | MEM |\n",
      "------------------\n",
      "|  0 | 94% | 81% |\n",
      "write models: light\n",
      "| ID | GPU | MEM |\n",
      "------------------\n",
      "|  0 | 94% | 81% |\n",
      "write models: light1\n"
     ]
    },
    {
     "name": "stderr",
     "output_type": "stream",
     "text": [
      "/root/repos/ModelGenerator/shap_e/models/stf/renderer.py:286: UserWarning: exception rendering with PyTorch3D: No module named 'pytorch3d'\n",
      "  warnings.warn(f\"exception rendering with PyTorch3D: {exc}\")\n",
      "/root/repos/ModelGenerator/shap_e/models/stf/renderer.py:287: UserWarning: falling back on native PyTorch renderer, which does not support full gradients\n",
      "  warnings.warn(\n"
     ]
    },
    {
     "name": "stdout",
     "output_type": "stream",
     "text": [
      "to_glb: /tmp/tmpnyrr2wec.glbply: /tmp/tmp060jn2f8.ply\n",
      "to_glb: /tmp/tmprazv52l2.glbply: /tmp/tmpns2ch2hd.ply\n",
      "glb_path = /tmp/tmpnyrr2wec.glb, output_path = /root/repos/ModelGenerator/Assets/model_light/output.fbx\n",
      "glb_path = /tmp/tmprazv52l2.glb, output_path = /root/repos/ModelGenerator/Assets/model_light1/output.fbx\n",
      "Blender 4.0.1 (hash d0dd92834a08 built 2023-11-17 00:31:26)\n",
      "Blender 4.0.1 (hash d0dd92834a08 built 2023-11-17 00:31:26)\n",
      "glb_path = /tmp/tmpnyrr2wec.glb, output_path = /root/repos/ModelGenerator/Assets/model_light/output.fbx\n",
      "glb_path = /tmp/tmprazv52l2.glb, output_path = /root/repos/ModelGenerator/Assets/model_light1/output.fbx\n",
      "Data are loaded, start creating Blender stuff\n",
      "Data are loaded, start creating Blender stuff\n",
      "glTF import finished in 0.22s\n",
      "\n",
      "FBX export starting... '/root/repos/ModelGenerator/Assets/model_light/output.fbx'\n",
      "glTF import finished in 0.24s\n",
      "\n",
      "FBX export starting... '/root/repos/ModelGenerator/Assets/model_light1/output.fbx'\n",
      "export finished in 0.5616 sec.\n",
      "| ID | GPU | MEM |\n",
      "------------------\n",
      "|  0 |  0% | 64% |\n",
      "export finished in 0.7232 sec.\n",
      "| ID | GPU | MEM |\n",
      "------------------\n",
      "|  0 |  0% | 64% |\n",
      "| ID | GPU | MEM |\n",
      "------------------\n",
      "|  0 |  0% | 64% |\n"
     ]
    }
   ],
   "source": [
    "from shap_e.mylib.modelCreate import model_create\n",
    "from concurrent.futures import ProcessPoolExecutor, ThreadPoolExecutor\n",
    "# from multiprocessing import Pool, Process\n",
    "# import time\n",
    "\n",
    "max_workers = os.cpu_count()\n",
    "with ThreadPoolExecutor(max_workers=max_workers) as executor:\n",
    "        # executor.submit(model_create,xm,model,diffusion,\"Assets/example_data/apple2.jpeg\")\n",
    "        executor.submit(model_create,xm,model,diffusion,\"Assets/example_data/light.jpg\")\n",
    "        executor.submit(model_create,xm,model,diffusion,\"Assets/example_data/light1.jpg\")\n",
    "        # executor.submit(model_create,xm,model,diffusion,\"Assets/example_data/scissors.jpg\")\n",
    "        # time.sleep(20)\n",
    "        # executor.submit(model_create,xm,model,diffusion,\"Assets/example_data/yakan.png\")\n",
    "        # time.sleep(20)\n",
    "        # executor.submit(model_create,xm,model,diffusion,\"Assets/example_data/penguin.png\")\n",
    "        # time.sleep(10)\n",
    "        # executor.submit(model_create,xm,model,diffusion,\"Assets/example_data/bottle.jpg\")\n",
    "\n",
    "\n",
    "# import torch.multiprocessing as multiprocessing\n",
    "# if multiprocessing.get_start_method() == 'fork':\n",
    "#     multiprocessing.set_start_method('spawn', force=True)\n",
    "#     print(\"{} setup done\".format(multiprocessing.get_start_method()))\n",
    "# arg_list = [(xm,model,diffusion,\"example_data/corgi.png\")]\n",
    "# with Pool(3) as p:\n",
    "#     p.map(model_create,arg_list)\n",
    "\n",
    "GPUtil.showUtilization()\n"
   ]
  },
  {
   "cell_type": "code",
   "execution_count": 5,
   "metadata": {},
   "outputs": [],
   "source": [
    "del model_create"
   ]
  }
 ],
 "metadata": {
  "kernelspec": {
   "display_name": "Python 3",
   "language": "python",
   "name": "python3"
  },
  "language_info": {
   "codemirror_mode": {
    "name": "ipython",
    "version": 3
   },
   "file_extension": ".py",
   "mimetype": "text/x-python",
   "name": "python",
   "nbconvert_exporter": "python",
   "pygments_lexer": "ipython3",
   "version": "3.10.6"
  }
 },
 "nbformat": 4,
 "nbformat_minor": 2
}
