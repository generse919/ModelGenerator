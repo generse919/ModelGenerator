{
 "cells": [
  {
   "cell_type": "code",
   "execution_count": 1,
   "metadata": {},
   "outputs": [],
   "source": [
    "import torch\n",
    "\n",
    "from shap_e.models.download import load_model\n",
    "from shap_e.util.data_util import load_or_create_multimodal_batch\n",
    "from shap_e.util.notebooks import create_pan_cameras, decode_latent_images, gif_widget"
   ]
  },
  {
   "cell_type": "code",
   "execution_count": 2,
   "metadata": {},
   "outputs": [],
   "source": [
    "device = torch.device('cuda' if torch.cuda.is_available() else 'cpu')"
   ]
  },
  {
   "cell_type": "code",
   "execution_count": 3,
   "metadata": {},
   "outputs": [],
   "source": [
    "xm = load_model('transmitter', device=device)"
   ]
  },
  {
   "cell_type": "code",
   "execution_count": 4,
   "metadata": {},
   "outputs": [
    {
     "name": "stdout",
     "output_type": "stream",
     "text": [
      "creating point cloud...\n"
     ]
    },
    {
     "ename": "OSError",
     "evalue": "To render 3D models, install Blender version 3.3.1 or higher and set the environment variable `BLENDER_PATH` to the path of the Blender executable.",
     "output_type": "error",
     "traceback": [
      "\u001b[0;31m---------------------------------------------------------------------------\u001b[0m",
      "\u001b[0;31mOSError\u001b[0m                                   Traceback (most recent call last)",
      "Cell \u001b[0;32mIn[4], line 5\u001b[0m\n\u001b[1;32m      1\u001b[0m model_path \u001b[39m=\u001b[39m \u001b[39m\"\u001b[39m\u001b[39mexample_data/cactus/object.obj\u001b[39m\u001b[39m\"\u001b[39m\n\u001b[1;32m      3\u001b[0m \u001b[39m# This may take a few minutes, since it requires rendering the model twice\u001b[39;00m\n\u001b[1;32m      4\u001b[0m \u001b[39m# in two different modes.\u001b[39;00m\n\u001b[0;32m----> 5\u001b[0m batch \u001b[39m=\u001b[39m load_or_create_multimodal_batch(\n\u001b[1;32m      6\u001b[0m     device,\n\u001b[1;32m      7\u001b[0m     model_path\u001b[39m=\u001b[39;49mmodel_path,\n\u001b[1;32m      8\u001b[0m     mv_light_mode\u001b[39m=\u001b[39;49m\u001b[39m\"\u001b[39;49m\u001b[39mbasic\u001b[39;49m\u001b[39m\"\u001b[39;49m,\n\u001b[1;32m      9\u001b[0m     mv_image_size\u001b[39m=\u001b[39;49m\u001b[39m256\u001b[39;49m,\n\u001b[1;32m     10\u001b[0m     cache_dir\u001b[39m=\u001b[39;49m\u001b[39m\"\u001b[39;49m\u001b[39mexample_data/cactus/cached\u001b[39;49m\u001b[39m\"\u001b[39;49m,\n\u001b[1;32m     11\u001b[0m     verbose\u001b[39m=\u001b[39;49m\u001b[39mTrue\u001b[39;49;00m, \u001b[39m# this will show Blender output during renders\u001b[39;49;00m\n\u001b[1;32m     12\u001b[0m )\n",
      "File \u001b[0;32m~/repos/shap-e/shap_e/util/data_util.py:36\u001b[0m, in \u001b[0;36mload_or_create_multimodal_batch\u001b[0;34m(device, mesh_path, model_path, cache_dir, point_count, random_sample_count, pc_num_views, mv_light_mode, mv_num_views, mv_image_size, mv_alpha_removal, verbose)\u001b[0m\n\u001b[1;32m     34\u001b[0m \u001b[39mif\u001b[39;00m verbose:\n\u001b[1;32m     35\u001b[0m     \u001b[39mprint\u001b[39m(\u001b[39m\"\u001b[39m\u001b[39mcreating point cloud...\u001b[39m\u001b[39m\"\u001b[39m)\n\u001b[0;32m---> 36\u001b[0m pc \u001b[39m=\u001b[39m load_or_create_pc(\n\u001b[1;32m     37\u001b[0m     mesh_path\u001b[39m=\u001b[39;49mmesh_path,\n\u001b[1;32m     38\u001b[0m     model_path\u001b[39m=\u001b[39;49mmodel_path,\n\u001b[1;32m     39\u001b[0m     cache_dir\u001b[39m=\u001b[39;49mcache_dir,\n\u001b[1;32m     40\u001b[0m     random_sample_count\u001b[39m=\u001b[39;49mrandom_sample_count,\n\u001b[1;32m     41\u001b[0m     point_count\u001b[39m=\u001b[39;49mpoint_count,\n\u001b[1;32m     42\u001b[0m     num_views\u001b[39m=\u001b[39;49mpc_num_views,\n\u001b[1;32m     43\u001b[0m     verbose\u001b[39m=\u001b[39;49mverbose,\n\u001b[1;32m     44\u001b[0m )\n\u001b[1;32m     45\u001b[0m raw_pc \u001b[39m=\u001b[39m np\u001b[39m.\u001b[39mconcatenate([pc\u001b[39m.\u001b[39mcoords, pc\u001b[39m.\u001b[39mselect_channels([\u001b[39m\"\u001b[39m\u001b[39mR\u001b[39m\u001b[39m\"\u001b[39m, \u001b[39m\"\u001b[39m\u001b[39mG\u001b[39m\u001b[39m\"\u001b[39m, \u001b[39m\"\u001b[39m\u001b[39mB\u001b[39m\u001b[39m\"\u001b[39m])], axis\u001b[39m=\u001b[39m\u001b[39m-\u001b[39m\u001b[39m1\u001b[39m)\n\u001b[1;32m     46\u001b[0m encode_me \u001b[39m=\u001b[39m torch\u001b[39m.\u001b[39mfrom_numpy(raw_pc)\u001b[39m.\u001b[39mfloat()\u001b[39m.\u001b[39mto(device)\n",
      "File \u001b[0;32m~/repos/shap-e/shap_e/util/data_util.py:111\u001b[0m, in \u001b[0;36mload_or_create_pc\u001b[0;34m(mesh_path, model_path, cache_dir, random_sample_count, point_count, num_views, verbose)\u001b[0m\n\u001b[1;32m    108\u001b[0m \u001b[39melse\u001b[39;00m:\n\u001b[1;32m    109\u001b[0m     cache_path \u001b[39m=\u001b[39m \u001b[39mNone\u001b[39;00m\n\u001b[0;32m--> 111\u001b[0m \u001b[39mwith\u001b[39;00m load_or_create_multiview(\n\u001b[1;32m    112\u001b[0m     mesh_path\u001b[39m=\u001b[39mmesh_path,\n\u001b[1;32m    113\u001b[0m     model_path\u001b[39m=\u001b[39mmodel_path,\n\u001b[1;32m    114\u001b[0m     cache_dir\u001b[39m=\u001b[39mcache_dir,\n\u001b[1;32m    115\u001b[0m     num_views\u001b[39m=\u001b[39mnum_views,\n\u001b[1;32m    116\u001b[0m     verbose\u001b[39m=\u001b[39mverbose,\n\u001b[1;32m    117\u001b[0m ) \u001b[39mas\u001b[39;00m mv:\n\u001b[1;32m    118\u001b[0m     \u001b[39mif\u001b[39;00m verbose:\n\u001b[1;32m    119\u001b[0m         \u001b[39mprint\u001b[39m(\u001b[39m\"\u001b[39m\u001b[39mextracting point cloud from multiview...\u001b[39m\u001b[39m\"\u001b[39m)\n",
      "File \u001b[0;32m/usr/lib/python3.10/contextlib.py:135\u001b[0m, in \u001b[0;36m_GeneratorContextManager.__enter__\u001b[0;34m(self)\u001b[0m\n\u001b[1;32m    133\u001b[0m \u001b[39mdel\u001b[39;00m \u001b[39mself\u001b[39m\u001b[39m.\u001b[39margs, \u001b[39mself\u001b[39m\u001b[39m.\u001b[39mkwds, \u001b[39mself\u001b[39m\u001b[39m.\u001b[39mfunc\n\u001b[1;32m    134\u001b[0m \u001b[39mtry\u001b[39;00m:\n\u001b[0;32m--> 135\u001b[0m     \u001b[39mreturn\u001b[39;00m \u001b[39mnext\u001b[39;49m(\u001b[39mself\u001b[39;49m\u001b[39m.\u001b[39;49mgen)\n\u001b[1;32m    136\u001b[0m \u001b[39mexcept\u001b[39;00m \u001b[39mStopIteration\u001b[39;00m:\n\u001b[1;32m    137\u001b[0m     \u001b[39mraise\u001b[39;00m \u001b[39mRuntimeError\u001b[39;00m(\u001b[39m\"\u001b[39m\u001b[39mgenerator didn\u001b[39m\u001b[39m'\u001b[39m\u001b[39mt yield\u001b[39m\u001b[39m\"\u001b[39m) \u001b[39mfrom\u001b[39;00m \u001b[39mNone\u001b[39;00m\n",
      "File \u001b[0;32m~/repos/shap-e/shap_e/util/data_util.py:182\u001b[0m, in \u001b[0;36mload_or_create_multiview\u001b[0;34m(mesh_path, model_path, cache_dir, num_views, extract_material, light_mode, verbose)\u001b[0m\n\u001b[1;32m    174\u001b[0m     render_mesh(\n\u001b[1;32m    175\u001b[0m         mesh\u001b[39m=\u001b[39mmesh,\n\u001b[1;32m    176\u001b[0m         output_path\u001b[39m=\u001b[39mtmp_path,\n\u001b[0;32m   (...)\u001b[0m\n\u001b[1;32m    179\u001b[0m         \u001b[39m*\u001b[39m\u001b[39m*\u001b[39mcommon_kwargs,\n\u001b[1;32m    180\u001b[0m     )\n\u001b[1;32m    181\u001b[0m \u001b[39melif\u001b[39;00m model_path \u001b[39mis\u001b[39;00m \u001b[39mnot\u001b[39;00m \u001b[39mNone\u001b[39;00m:\n\u001b[0;32m--> 182\u001b[0m     render_model(\n\u001b[1;32m    183\u001b[0m         model_path,\n\u001b[1;32m    184\u001b[0m         output_path\u001b[39m=\u001b[39;49mtmp_path,\n\u001b[1;32m    185\u001b[0m         num_images\u001b[39m=\u001b[39;49mnum_views,\n\u001b[1;32m    186\u001b[0m         backend\u001b[39m=\u001b[39;49m\u001b[39m\"\u001b[39;49m\u001b[39mBLENDER_EEVEE\u001b[39;49m\u001b[39m\"\u001b[39;49m,\n\u001b[1;32m    187\u001b[0m         \u001b[39m*\u001b[39;49m\u001b[39m*\u001b[39;49mcommon_kwargs,\n\u001b[1;32m    188\u001b[0m     )\n\u001b[1;32m    189\u001b[0m \u001b[39mif\u001b[39;00m cache_path \u001b[39mis\u001b[39;00m \u001b[39mnot\u001b[39;00m \u001b[39mNone\u001b[39;00m:\n\u001b[1;32m    190\u001b[0m     bf\u001b[39m.\u001b[39mcopy(tmp_path, cache_path)\n",
      "File \u001b[0;32m~/repos/shap-e/shap_e/rendering/blender/render.py:44\u001b[0m, in \u001b[0;36mrender_model\u001b[0;34m(model_path, output_path, num_images, backend, light_mode, camera_pose, camera_dist_min, camera_dist_max, fast_mode, extract_material, delete_material, verbose, timeout)\u001b[0m\n\u001b[1;32m     39\u001b[0m \u001b[39mif\u001b[39;00m platform\u001b[39m.\u001b[39msystem() \u001b[39m==\u001b[39m \u001b[39m\"\u001b[39m\u001b[39mLinux\u001b[39m\u001b[39m\"\u001b[39m:\n\u001b[1;32m     40\u001b[0m     \u001b[39m# Needed to enable Eevee backend on headless linux.\u001b[39;00m\n\u001b[1;32m     41\u001b[0m     args \u001b[39m=\u001b[39m [\u001b[39m\"\u001b[39m\u001b[39mxvfb-run\u001b[39m\u001b[39m\"\u001b[39m, \u001b[39m\"\u001b[39m\u001b[39m-a\u001b[39m\u001b[39m\"\u001b[39m]\n\u001b[1;32m     42\u001b[0m args\u001b[39m.\u001b[39mextend(\n\u001b[1;32m     43\u001b[0m     [\n\u001b[0;32m---> 44\u001b[0m         _blender_binary_path(),\n\u001b[1;32m     45\u001b[0m         \u001b[39m\"\u001b[39m\u001b[39m-b\u001b[39m\u001b[39m\"\u001b[39m,\n\u001b[1;32m     46\u001b[0m         \u001b[39m\"\u001b[39m\u001b[39m-P\u001b[39m\u001b[39m\"\u001b[39m,\n\u001b[1;32m     47\u001b[0m         SCRIPT_PATH,\n\u001b[1;32m     48\u001b[0m         \u001b[39m\"\u001b[39m\u001b[39m--\u001b[39m\u001b[39m\"\u001b[39m,\n\u001b[1;32m     49\u001b[0m         \u001b[39m\"\u001b[39m\u001b[39m--input_path\u001b[39m\u001b[39m\"\u001b[39m,\n\u001b[1;32m     50\u001b[0m         tmp_in,\n\u001b[1;32m     51\u001b[0m         \u001b[39m\"\u001b[39m\u001b[39m--output_path\u001b[39m\u001b[39m\"\u001b[39m,\n\u001b[1;32m     52\u001b[0m         tmp_out,\n\u001b[1;32m     53\u001b[0m         \u001b[39m\"\u001b[39m\u001b[39m--num_images\u001b[39m\u001b[39m\"\u001b[39m,\n\u001b[1;32m     54\u001b[0m         \u001b[39mstr\u001b[39m(num_images),\n\u001b[1;32m     55\u001b[0m         \u001b[39m\"\u001b[39m\u001b[39m--backend\u001b[39m\u001b[39m\"\u001b[39m,\n\u001b[1;32m     56\u001b[0m         backend,\n\u001b[1;32m     57\u001b[0m         \u001b[39m\"\u001b[39m\u001b[39m--light_mode\u001b[39m\u001b[39m\"\u001b[39m,\n\u001b[1;32m     58\u001b[0m         light_mode,\n\u001b[1;32m     59\u001b[0m         \u001b[39m\"\u001b[39m\u001b[39m--camera_pose\u001b[39m\u001b[39m\"\u001b[39m,\n\u001b[1;32m     60\u001b[0m         camera_pose,\n\u001b[1;32m     61\u001b[0m         \u001b[39m\"\u001b[39m\u001b[39m--camera_dist_min\u001b[39m\u001b[39m\"\u001b[39m,\n\u001b[1;32m     62\u001b[0m         \u001b[39mstr\u001b[39m(camera_dist_min),\n\u001b[1;32m     63\u001b[0m         \u001b[39m\"\u001b[39m\u001b[39m--camera_dist_max\u001b[39m\u001b[39m\"\u001b[39m,\n\u001b[1;32m     64\u001b[0m         \u001b[39mstr\u001b[39m(camera_dist_max),\n\u001b[1;32m     65\u001b[0m         \u001b[39m\"\u001b[39m\u001b[39m--uniform_light_direction\u001b[39m\u001b[39m\"\u001b[39m,\n\u001b[1;32m     66\u001b[0m         \u001b[39m*\u001b[39m[\u001b[39mstr\u001b[39m(x) \u001b[39mfor\u001b[39;00m x \u001b[39min\u001b[39;00m UNIFORM_LIGHT_DIRECTION],\n\u001b[1;32m     67\u001b[0m         \u001b[39m\"\u001b[39m\u001b[39m--basic_ambient\u001b[39m\u001b[39m\"\u001b[39m,\n\u001b[1;32m     68\u001b[0m         \u001b[39mstr\u001b[39m(BASIC_AMBIENT_COLOR),\n\u001b[1;32m     69\u001b[0m         \u001b[39m\"\u001b[39m\u001b[39m--basic_diffuse\u001b[39m\u001b[39m\"\u001b[39m,\n\u001b[1;32m     70\u001b[0m         \u001b[39mstr\u001b[39m(BASIC_DIFFUSE_COLOR),\n\u001b[1;32m     71\u001b[0m     ]\n\u001b[1;32m     72\u001b[0m )\n\u001b[1;32m     73\u001b[0m \u001b[39mif\u001b[39;00m fast_mode:\n\u001b[1;32m     74\u001b[0m     args\u001b[39m.\u001b[39mappend(\u001b[39m\"\u001b[39m\u001b[39m--fast_mode\u001b[39m\u001b[39m\"\u001b[39m)\n",
      "File \u001b[0;32m~/repos/shap-e/shap_e/rendering/blender/render.py:142\u001b[0m, in \u001b[0;36m_blender_binary_path\u001b[0;34m()\u001b[0m\n\u001b[1;32m    139\u001b[0m \u001b[39mif\u001b[39;00m os\u001b[39m.\u001b[39mpath\u001b[39m.\u001b[39mexists(\u001b[39m\"\u001b[39m\u001b[39m/Applications/Blender.app/Contents/MacOS/Blender\u001b[39m\u001b[39m\"\u001b[39m):\n\u001b[1;32m    140\u001b[0m     \u001b[39mreturn\u001b[39;00m \u001b[39m\"\u001b[39m\u001b[39m/Applications/Blender.app/Contents/MacOS/Blender\u001b[39m\u001b[39m\"\u001b[39m\n\u001b[0;32m--> 142\u001b[0m \u001b[39mraise\u001b[39;00m \u001b[39mEnvironmentError\u001b[39;00m(\n\u001b[1;32m    143\u001b[0m     \u001b[39m\"\u001b[39m\u001b[39mTo render 3D models, install Blender version 3.3.1 or higher and \u001b[39m\u001b[39m\"\u001b[39m\n\u001b[1;32m    144\u001b[0m     \u001b[39m\"\u001b[39m\u001b[39mset the environment variable `BLENDER_PATH` to the path of the Blender executable.\u001b[39m\u001b[39m\"\u001b[39m\n\u001b[1;32m    145\u001b[0m )\n",
      "\u001b[0;31mOSError\u001b[0m: To render 3D models, install Blender version 3.3.1 or higher and set the environment variable `BLENDER_PATH` to the path of the Blender executable."
     ]
    }
   ],
   "source": [
    "model_path = \"example_data/cactus/object.obj\"\n",
    "\n",
    "# This may take a few minutes, since it requires rendering the model twice\n",
    "# in two different modes.\n",
    "batch = load_or_create_multimodal_batch(\n",
    "    device,\n",
    "    model_path=model_path,\n",
    "    mv_light_mode=\"basic\",\n",
    "    mv_image_size=256,\n",
    "    cache_dir=\"example_data/cactus/cached\",\n",
    "    verbose=True, # this will show Blender output during renders\n",
    ")"
   ]
  },
  {
   "cell_type": "code",
   "execution_count": null,
   "metadata": {},
   "outputs": [],
   "source": [
    "with torch.no_grad():\n",
    "    latent = xm.encoder.encode_to_bottleneck(batch)\n",
    "\n",
    "    render_mode = 'stf' # you can change this to 'nerf'\n",
    "    size = 128 # recommended that you lower resolution when using nerf\n",
    "\n",
    "    cameras = create_pan_cameras(size, device)\n",
    "    images = decode_latent_images(xm, latent, cameras, rendering_mode=render_mode)\n",
    "    display(gif_widget(images))"
   ]
  }
 ],
 "metadata": {
  "kernelspec": {
   "display_name": "Python 3 (ipykernel)",
   "language": "python",
   "name": "python3"
  },
  "language_info": {
   "codemirror_mode": {
    "name": "ipython",
    "version": 3
   },
   "file_extension": ".py",
   "mimetype": "text/x-python",
   "name": "python",
   "nbconvert_exporter": "python",
   "pygments_lexer": "ipython3",
   "version": "3.10.6"
  }
 },
 "nbformat": 4,
 "nbformat_minor": 5
}
