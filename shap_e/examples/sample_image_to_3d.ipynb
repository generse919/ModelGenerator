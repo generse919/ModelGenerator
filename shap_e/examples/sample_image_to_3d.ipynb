{
 "cells": [
  {
   "cell_type": "code",
   "execution_count": 1,
   "id": "964ccced",
   "metadata": {},
   "outputs": [],
   "source": [
    "import torch\n",
    "import GPUtil\n",
    "import os\n",
    "from shap_e.diffusion.sample import sample_latents\n",
    "from shap_e.diffusion.gaussian_diffusion import diffusion_from_config\n",
    "from shap_e.models.download import load_model, load_config\n",
    "from shap_e.util.notebooks import create_pan_cameras, decode_latent_images, gif_widget\n",
    "from shap_e.util.image_util import load_image"
   ]
  },
  {
   "cell_type": "code",
   "execution_count": 2,
   "id": "8eed3a76",
   "metadata": {},
   "outputs": [
    {
     "name": "stdout",
     "output_type": "stream",
     "text": [
      "True\n"
     ]
    }
   ],
   "source": [
    "device = torch.device('cuda' if torch.cuda.is_available() else 'cpu')\n",
    "print(torch.cuda.is_available())"
   ]
  },
  {
   "cell_type": "code",
   "execution_count": 3,
   "id": "2d922637",
   "metadata": {},
   "outputs": [
    {
     "name": "stdout",
     "output_type": "stream",
     "text": [
      "| ID | GPU | MEM |\n",
      "------------------\n",
      "|  0 |  0% |  0% |\n",
      "| ID | GPU | MEM |\n",
      "------------------\n",
      "|  0 | 36% | 50% |\n",
      "| ID | GPU | MEM |\n",
      "------------------\n",
      "|  0 | 29% | 69% |\n",
      "| ID | GPU | MEM |\n",
      "------------------\n",
      "|  0 | 29% | 69% |\n"
     ]
    }
   ],
   "source": [
    "GPUtil.showUtilization()\n",
    "xm = load_model('transmitter', device=device)\n",
    "GPUtil.showUtilization()\n",
    "model = load_model('image300M', device=device)\n",
    "GPUtil.showUtilization()\n",
    "diffusion = diffusion_from_config(load_config('diffusion'))\n",
    "GPUtil.showUtilization()"
   ]
  },
  {
   "cell_type": "code",
   "execution_count": 4,
   "id": "53d329d0",
   "metadata": {},
   "outputs": [],
   "source": [
    "# batch_size = 1\n",
    "# guidance_scale = 3.0\n",
    "\n",
    "# # To get the best result, you should remove the background and show only the object of interest to the model.\n",
    "# image = load_image(\"example_data/corgi.png\")\n",
    "# image2 = load_image(\"example_data/yakan.png\")\n",
    "\n",
    "# latents = sample_latents(\n",
    "#     batch_size=batch_size,\n",
    "#     model=model,\n",
    "#     diffusion=diffusion,\n",
    "#     guidance_scale=guidance_scale,\n",
    "#     model_kwargs=dict(images=[image] * batch_size),\n",
    "#     progress=True,\n",
    "#     clip_denoised=True,\n",
    "#     use_fp16=True,\n",
    "#     use_karras=True,\n",
    "#     karras_steps=64,\n",
    "#     sigma_min=1e-3,\n",
    "#     sigma_max=160,\n",
    "#     s_churn=0,\n",
    "# )\n",
    "# GPUtil.showUtilization()\n",
    "\n"
   ]
  },
  {
   "cell_type": "code",
   "execution_count": 5,
   "id": "633da2ec",
   "metadata": {},
   "outputs": [],
   "source": [
    "# render_mode = 'nerf' # you can change this to 'stf' for mesh rendering\n",
    "# size = 64 # this is the size of the renders; higher values take longer to render.\n",
    "\n",
    "# cameras = create_pan_cameras(size, device)\n",
    "# for i, latent in enumerate(latents):\n",
    "#     images = decode_latent_images(xm, latent, cameras, rendering_mode=render_mode)\n",
    "#     display(gif_widget(images))\n",
    "    "
   ]
  },
  {
   "cell_type": "code",
   "execution_count": 6,
   "id": "758811ba",
   "metadata": {},
   "outputs": [],
   "source": [
    "# # Example of saving the latents as meshes.\n",
    "# from shap_e.util.notebooks import decode_latent_mesh\n",
    "\n",
    "# for i, latent in enumerate(latents):\n",
    "#     t = decode_latent_mesh(xm, latent).tri_mesh()\n",
    "#     with open(f'CorgiModels/example_mesh_{i}.ply', 'wb') as f:\n",
    "#         t.write_ply(f)\n",
    "#     with open(f'CorgiModels/example_mesh_{i}.obj', 'w') as f:\n",
    "#         t.write_obj(f)\n",
    "# del latents\n",
    "# GPUtil.showUtilization()\n",
    "# torch.cuda.empty_cache()\n",
    "# GPUtil.showUtilization()"
   ]
  },
  {
   "cell_type": "code",
   "execution_count": 7,
   "id": "f83c4498",
   "metadata": {},
   "outputs": [
    {
     "name": "stdout",
     "output_type": "stream",
     "text": [
      "loaded: bottle\n",
      "makeModel: bottle\n"
     ]
    },
    {
     "name": "stderr",
     "output_type": "stream",
     "text": [
      "/usr/local/lib/python3.10/dist-packages/torch/nn/modules/conv.py:459: UserWarning: Applied workaround for CuDNN issue, install nvrtc.so (Triggered internally at ../aten/src/ATen/native/cudnn/Conv_v8.cpp:80.)\n",
      "  return F.conv2d(input, weight, bias, self.stride,\n"
     ]
    },
    {
     "data": {
      "application/vnd.jupyter.widget-view+json": {
       "model_id": "370f37b8e9c64e22890b0c62d8a6ff6f",
       "version_major": 2,
       "version_minor": 0
      },
      "text/plain": [
       "  0%|          | 0/64 [00:00<?, ?it/s]"
      ]
     },
     "metadata": {},
     "output_type": "display_data"
    },
    {
     "name": "stdout",
     "output_type": "stream",
     "text": [
      "| ID | GPU | MEM |\n",
      "------------------\n",
      "|  0 | 81% | 82% |\n",
      "write models: bottle\n"
     ]
    },
    {
     "name": "stderr",
     "output_type": "stream",
     "text": [
      "/root/repos/shap-e/shap_e/models/stf/renderer.py:286: UserWarning: exception rendering with PyTorch3D: No module named 'pytorch3d'\n",
      "  warnings.warn(f\"exception rendering with PyTorch3D: {exc}\")\n",
      "/root/repos/shap-e/shap_e/models/stf/renderer.py:287: UserWarning: falling back on native PyTorch renderer, which does not support full gradients\n",
      "  warnings.warn(\n"
     ]
    },
    {
     "name": "stdout",
     "output_type": "stream",
     "text": [
      "| ID | GPU | MEM |\n",
      "------------------\n",
      "|  0 |  0% | 91% |\n",
      "| ID | GPU | MEM |\n",
      "------------------\n",
      "|  0 |  0% | 63% |\n"
     ]
    }
   ],
   "source": [
    "from shap_e.mylib.modelCreate import model_create\n",
    "from concurrent.futures import ProcessPoolExecutor, ThreadPoolExecutor\n",
    "from multiprocessing import Pool, Process\n",
    "import time\n",
    "\n",
    "max_workers = os.cpu_count()\n",
    "with ThreadPoolExecutor(max_workers=max_workers) as executor:\n",
    "        # executor.submit(model_create,xm,model,diffusion,\"example_data/corgi.png\")\n",
    "        # time.sleep(20)\n",
    "        # executor.submit(model_create,xm,model,diffusion,\"example_data/yakan.png\")\n",
    "        # time.sleep(20)\n",
    "        # executor.submit(model_create,xm,model,diffusion,\"example_data/penguin.png\")\n",
    "        executor.submit(model_create,xm,model,diffusion,\"example_data/bottle.jpg\")\n",
    "\n",
    "\n",
    "# import torch.multiprocessing as multiprocessing\n",
    "# if multiprocessing.get_start_method() == 'fork':\n",
    "#     multiprocessing.set_start_method('spawn', force=True)\n",
    "#     print(\"{} setup done\".format(multiprocessing.get_start_method()))\n",
    "# arg_list = [(xm,model,diffusion,\"example_data/corgi.png\")]\n",
    "# with Pool(3) as p:\n",
    "#     p.map(model_create,arg_list)\n",
    "torch.cuda.empty_cache()\n",
    "GPUtil.showUtilization()\n"
   ]
  }
 ],
 "metadata": {
  "kernelspec": {
   "display_name": "Python 3 (ipykernel)",
   "language": "python",
   "name": "python3"
  },
  "language_info": {
   "codemirror_mode": {
    "name": "ipython",
    "version": 3
   },
   "file_extension": ".py",
   "mimetype": "text/x-python",
   "name": "python",
   "nbconvert_exporter": "python",
   "pygments_lexer": "ipython3",
   "version": "3.10.6"
  }
 },
 "nbformat": 4,
 "nbformat_minor": 5
}
